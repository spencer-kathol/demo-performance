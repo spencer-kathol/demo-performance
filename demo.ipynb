{
 "cells": [
  {
   "cell_type": "markdown",
   "metadata": {},
   "source": [
    "# Performance Profiling Demo"
   ]
  },
  {
   "cell_type": "markdown",
   "metadata": {},
   "source": [
    "## Setup\n",
    "The execution time profiler is packaged with Python, and does not need to be installed separately.  However, the memory profiler is a python package that can be installed with a package installer like `pip`.\n",
    "\n",
    "### Install memory profiler\n",
    "The following command will load memory_profiler into your environment.\n",
    "\n",
    "`pip install memory_profiler`\n",
    "\n",
    "### Register memory profiler magic commands in the notebook\n",
    "The following cell will load the memory profiler notebook extension to enable profiling magics."
   ]
  },
  {
   "cell_type": "code",
   "execution_count": null,
   "metadata": {},
   "outputs": [],
   "source": [
    "%load_ext memory_profiler"
   ]
  },
  {
   "cell_type": "markdown",
   "metadata": {},
   "source": [
    "### Set up function inputs\n",
    "The cell below contains demo-specific setup, including parameter variables that will be passed to scripts below."
   ]
  },
  {
   "cell_type": "code",
   "execution_count": null,
   "metadata": {},
   "outputs": [],
   "source": [
    "from phdi.azure import AzureFhirServerCredentialManager\n",
    "from pathlib import Path\n",
    "schema_path = Path(\"example_schema.yaml\")  # Path to a schema config file.\n",
    "output_path = Path(\"output\")                    # Path to directory where tables will be written\n",
    "output_format = \"parquet\"            # File format of tables\n",
    "fhir_url = \"https://pitest-fhir.azurehealthcareapis.com\"           # The URL for a FHIR server\n",
    "cred_manager = AzureFhirServerCredentialManager(fhir_url)"
   ]
  },
  {
   "cell_type": "markdown",
   "metadata": {},
   "source": [
    "### Import library code to profile\n",
    "For this demo, we'll load a few different versions of schemas.py, and load them to different module variables so we can reference them separately throughout the demo. This is only needed because we have different versions of the same code that we will be profiling.  Normally this would not be needed."
   ]
  },
  {
   "cell_type": "code",
   "execution_count": null,
   "metadata": {},
   "outputs": [],
   "source": [
    "import importlib\n",
    "import sys\n",
    "spec = importlib.util.spec_from_file_location(\"schemas-current\", \"schemas-0-current.py\")\n",
    "schemas_current = importlib.util.module_from_spec(spec)\n",
    "spec.loader.exec_module(schemas_current)\n",
    "\n",
    "spec = importlib.util.spec_from_file_location(\"schemas-evaluatefhirpath\", \"schemas-1-evaluatefhirpath.py\")\n",
    "schemas_evaluatefhirpath = importlib.util.module_from_spec(spec)\n",
    "spec.loader.exec_module(schemas_evaluatefhirpath)\n",
    "\n",
    "spec = importlib.util.spec_from_file_location(\"schemas-uncachedpathcompile\", \"schemas-2-uncachedpathcompile.py\")\n",
    "schemas_uncachedpathcompile = importlib.util.module_from_spec(spec)\n",
    "spec.loader.exec_module(schemas_uncachedpathcompile)\n",
    "\n",
    "spec = importlib.util.spec_from_file_location(\"schemas-fulltableextract\", \"schemas-3-fulltableextract.py\")\n",
    "schemas_fulltableextract = importlib.util.module_from_spec(spec)\n",
    "spec.loader.exec_module(schemas_fulltableextract)\n"
   ]
  },
  {
   "cell_type": "markdown",
   "metadata": {},
   "source": [
    "## Execution Speed Profiling\n",
    "There are a few code profile utilities available - we'll use [cProfile](https://docs.python.org/3/library/profile.html)."
   ]
  },
  {
   "cell_type": "markdown",
   "metadata": {},
   "source": [
    "### Current code execution"
   ]
  },
  {
   "cell_type": "code",
   "execution_count": null,
   "metadata": {},
   "outputs": [],
   "source": [
    "import cProfile\n",
    "import pstats\n",
    "\n",
    "cProfile.run('schemas_current.make_schema_tables(schema_path, output_path / \"current\", output_format, fhir_url, cred_manager)',\"output/current/cProfile-output.txt\")\n"
   ]
  },
  {
   "cell_type": "code",
   "execution_count": null,
   "metadata": {},
   "outputs": [],
   "source": [
    "pstats.Stats(\"output/current/cProfile-output.txt\").sort_stats(pstats.SortKey.CUMULATIVE).print_stats()"
   ]
  },
  {
   "cell_type": "markdown",
   "metadata": {},
   "source": [
    "### Evaluate FHIRPath execution"
   ]
  },
  {
   "cell_type": "code",
   "execution_count": null,
   "metadata": {},
   "outputs": [],
   "source": [
    "import cProfile\n",
    "import pstats\n",
    "\n",
    "cProfile.run('schemas_evaluatefhirpath.make_schema_tables(schema_path, output_path / \"evaluatefhirpath\", output_format, fhir_url, cred_manager)',\"output/evaluatefhirpath/cProfile-output.txt\")\n"
   ]
  },
  {
   "cell_type": "code",
   "execution_count": null,
   "metadata": {},
   "outputs": [],
   "source": [
    "pstats.Stats(\"output/evaluatefhirpath/cProfile-output.txt\").sort_stats(pstats.SortKey.CUMULATIVE).print_stats()"
   ]
  },
  {
   "cell_type": "markdown",
   "metadata": {},
   "source": [
    "### Separate FHIRPath parse + apply"
   ]
  },
  {
   "cell_type": "code",
   "execution_count": null,
   "metadata": {},
   "outputs": [],
   "source": [
    "import cProfile\n",
    "import pstats\n",
    "\n",
    "cProfile.run('schemas_uncachedpathcompile.make_schema_tables(schema_path, output_path / \"uncachedpathcompile\", output_format, fhir_url, cred_manager)',\"output/uncachedpathcompile/cProfile-output.txt\")\n"
   ]
  },
  {
   "cell_type": "code",
   "execution_count": null,
   "metadata": {},
   "outputs": [],
   "source": [
    "pstats.Stats(\"output/uncachedpathcompile/cProfile-output.txt\").sort_stats(pstats.SortKey.CUMULATIVE).print_stats()"
   ]
  },
  {
   "cell_type": "markdown",
   "metadata": {},
   "source": [
    "## Memory Profiling\n",
    "There are a few options for memory profiling in python.  The demo below uses the [memory_profiler](https://pypi.org/project/memory-profiler/)\n",
    "The memory_profiler python package can be run in a few ways:\n",
    "* You can run the following from the command line: \n",
    "  \n",
    "  `mprof run --python python my-python-script.py`\n",
    "  \n",
    "  This will collect function-specific data, as well as create a file with data that can be displayed as a graph using `mprof plot`\n",
    "\n",
    "* You can see line-by-line at the command line.  First, add the `@profile` decorator to any functions you would like to analyze, and then run\n",
    "  \n",
    "  `python -m memory_profiler my-python-script.py`\n",
    "\n",
    "  This will print a line-by-line analysis of memory consumption for the targets of the `@profile` decorator.\n",
    "\n",
    "* Alternatively, you can use the notebook extention, with magic:\n",
    "\n",
    "  `%mprun -f target_function my-python-script.py`.  \n",
    "  \n",
    "  The -f parameter may be used to specify the function you'd like to profile without adding the `@profile` decorator.\n",
    "\n",
    "We will take a look at profiles for 2 different architectural approaches.  One which incrementally requests and writes to a file, and another that collects data from all requests, and writes the entire subset to a file.  We'll look at the out put both line-by-line and over the execution of the program."
   ]
  },
  {
   "cell_type": "markdown",
   "metadata": {},
   "source": [
    "### Line-by-line memory profiling\n",
    "#### Full table extract"
   ]
  },
  {
   "cell_type": "code",
   "execution_count": null,
   "metadata": {},
   "outputs": [],
   "source": [
    "!python -m memory_profiler schemas-3-fulltableextract.py example_schema.yaml output/fullextract parquet https://pitest-fhir.azurehealthcareapis.com"
   ]
  },
  {
   "cell_type": "markdown",
   "metadata": {},
   "source": [
    "#### Incremental extract"
   ]
  },
  {
   "cell_type": "code",
   "execution_count": null,
   "metadata": {},
   "outputs": [],
   "source": [
    "!python -m memory_profiler schemas-0-current.py example_schema.yaml output/current parquet https://pitest-fhir.azurehealthcareapis.com"
   ]
  },
  {
   "cell_type": "markdown",
   "metadata": {},
   "source": [
    "### Timeline memory profiling\n",
    "#### Full table extract"
   ]
  },
  {
   "cell_type": "code",
   "execution_count": null,
   "metadata": {},
   "outputs": [],
   "source": [
    "!mprof run --output fulltableextract_mprofile.dat --python python schemas-3-fulltableextract.py example_schema.yaml output/fullextract parquet https://pitest-fhir.azurehealthcareapis.com"
   ]
  },
  {
   "cell_type": "markdown",
   "metadata": {},
   "source": [
    "#### Incremental extract"
   ]
  },
  {
   "cell_type": "code",
   "execution_count": null,
   "metadata": {},
   "outputs": [],
   "source": [
    "!mprof run --output current_mprofile.dat --python python schemas-3-current.py example_schema.yaml output/fullextract parquet https://pitest-fhir.azurehealthcareapis.com"
   ]
  },
  {
   "cell_type": "markdown",
   "metadata": {},
   "source": [
    "### Notebook memory profiling"
   ]
  },
  {
   "cell_type": "code",
   "execution_count": null,
   "metadata": {},
   "outputs": [],
   "source": [
    "%mprun -f schemas_fulltableextract.demo_run schemas_fulltableextract.demo_run(schema_path, output_path / \"fulltableextract\", output_format, fhir_url)"
   ]
  }
 ],
 "metadata": {
  "kernelspec": {
   "display_name": "Python 3.9.12 64-bit ('demo-performance')",
   "language": "python",
   "name": "python3"
  },
  "language_info": {
   "codemirror_mode": {
    "name": "ipython",
    "version": 3
   },
   "file_extension": ".py",
   "mimetype": "text/x-python",
   "name": "python",
   "nbconvert_exporter": "python",
   "pygments_lexer": "ipython3",
   "version": "3.9.12"
  },
  "orig_nbformat": 4,
  "vscode": {
   "interpreter": {
    "hash": "2986dc5f0f3ab52672e49ebdb2e4cc03a5d9eb07ece20ef57ee1eeef34a8337f"
   }
  }
 },
 "nbformat": 4,
 "nbformat_minor": 2
}
