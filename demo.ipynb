{
 "cells": [
  {
   "cell_type": "markdown",
   "metadata": {},
   "source": [
    "# Performance Profiling Demo"
   ]
  },
  {
   "cell_type": "markdown",
   "metadata": {},
   "source": [
    "## Setup\n",
    "\n",
    "\n",
    "The memory_profiler python package can be run in a few ways:\n",
    "* You can run the following from the command line: \n",
    "  \n",
    "  `mprof run --python python my-python-script.py`\n",
    "  \n",
    "  This will collect function-specific data, as well as create a file with data that can be displayed as a graph using `mprof plot`\n",
    "* You can see line-by-line at the command line.  First, decorate the functions you want to profile with the @profile tag, and then run\n",
    "  \n",
    "  `python -m memory_profiler my-python-script.py`\n",
    "* Alternatively, you can use the notebook extention, with magic `%mprun`.  This accepts a -f parameter to specify the function you'd like to profile without adding the `@profile` decorator.  (example below)\n",
    "\n",
    "### Install memory profiler\n",
    "The following command will load memory_profiler into your environment.\n",
    "\n",
    "`pip install memory_profiler`\n",
    "\n",
    "### Register memory profiler magic commands in the notebook\n",
    "The following cell will load the memory profiler notebook extension to enable profiling magics."
   ]
  },
  {
   "cell_type": "code",
   "execution_count": 1,
   "metadata": {},
   "outputs": [],
   "source": [
    "%load_ext memory_profiler"
   ]
  },
  {
   "cell_type": "markdown",
   "metadata": {},
   "source": [
    "### Import library code to profile\n",
    "For this demo, we'll load a few different versions of schemas.py, and load them to different module variables so we can reference them separately throughout the demo. This is only needed because we have different versions of the same code that we will be profiling.  Normally this would not be needed."
   ]
  },
  {
   "cell_type": "code",
   "execution_count": 13,
   "metadata": {},
   "outputs": [],
   "source": [
    "import importlib\n",
    "import sys\n",
    "spec = importlib.util.spec_from_file_location(\"schemas-current\", \"schemas-0-current.py\")\n",
    "schemas_current = importlib.util.module_from_spec(spec)\n",
    "spec.loader.exec_module(schemas_current)\n",
    "\n",
    "spec = importlib.util.spec_from_file_location(\"schemas-evaluatefhirpath\", \"schemas-1-evaluatefhirpath.py\")\n",
    "schemas_evaluatefhirpath = importlib.util.module_from_spec(spec)\n",
    "spec.loader.exec_module(schemas_evaluatefhirpath)\n",
    "\n",
    "spec = importlib.util.spec_from_file_location(\"schemas-uncachedpathcompile\", \"schemas-2-uncachedpathcompile.py\")\n",
    "schemas_uncachedpathcompile = importlib.util.module_from_spec(spec)\n",
    "spec.loader.exec_module(schemas_uncachedpathcompile)\n",
    "\n",
    "spec = importlib.util.spec_from_file_location(\"schemas-fulltableextract\", \"schemas-3-fulltableextract.py\")\n",
    "schemas_fulltableextract = importlib.util.module_from_spec(spec)\n",
    "spec.loader.exec_module(schemas_fulltableextract)\n"
   ]
  },
  {
   "cell_type": "markdown",
   "metadata": {},
   "source": [
    "## Memory Profiling\n",
    "\n",
    " "
   ]
  },
  {
   "cell_type": "code",
   "execution_count": 9,
   "metadata": {},
   "outputs": [],
   "source": [
    "from phdi.azure import AzureFhirServerCredentialManager\n",
    "from pathlib import Path\n",
    "schema_path = Path(\"example_schema.yaml\")  # Path to a schema config file.\n",
    "output_path = Path(\"output\")                    # Path to directory where tables will be written\n",
    "output_format = \"parquet\"            # File format of tables\n",
    "fhir_url = \"https://pitest-fhir.azurehealthcareapis.com\"           # The URL for a FHIR server\n",
    "cred_manager = AzureFhirServerCredentialManager(fhir_url)"
   ]
  },
  {
   "cell_type": "markdown",
   "metadata": {},
   "source": []
  },
  {
   "cell_type": "code",
   "execution_count": null,
   "metadata": {},
   "outputs": [],
   "source": [
    "!python -m memory_profiler schemas-3-fulltableextract.py example_schema.yaml output/fullextract parquet https://pitest-fhir.azurehealthcareapis.com"
   ]
  },
  {
   "cell_type": "code",
   "execution_count": null,
   "metadata": {},
   "outputs": [],
   "source": [
    "!mprof run --output fulltableextract_mprofile.dat --python python schemas-3-fulltableextract.py example_schema.yaml output/fullextract parquet https://pitest-fhir.azurehealthcareapis.com"
   ]
  },
  {
   "cell_type": "code",
   "execution_count": 14,
   "metadata": {},
   "outputs": [
    {
     "name": "stdout",
     "output_type": "stream",
     "text": [
      "\n"
     ]
    },
    {
     "name": "stdout",
     "output_type": "stream",
     "text": [
      "Filename: schemas-3-fulltableextract.py\n",
      "\n",
      "Line #    Mem usage    Increment  Occurrences   Line Contents\n",
      "=============================================================\n",
      "   214    144.6 MiB    144.6 MiB           1   def demo_run(\n",
      "   215                                             schema_path: str, base_output_path: Path, output_format: str, fhir_url: str\n",
      "   216                                         ):\n",
      "   217    144.6 MiB      0.0 MiB           1       cred_manager = AzureFhirServerCredentialManager(fhir_url)\n",
      "   218                                         \n",
      "   219    144.6 MiB      0.0 MiB           1       schema = load_schema(schema_path)\n",
      "   220    325.0 MiB      0.0 MiB           3       for table_name in schema.keys():\n",
      "   221    258.5 MiB      0.0 MiB           2           output_path = base_output_path / table_name\n",
      "   222    258.5 MiB      0.0 MiB           2           output_path.mkdir(parents=True, exist_ok=True)\n",
      "   223    258.5 MiB      0.0 MiB           2           output_file_name = output_path / f\"{table_name}.{output_format}\"\n",
      "   224                                         \n",
      "   225    319.8 MiB    137.9 MiB           2           data = extract_data_from_fhir_server(fhir_url, schema[table_name], cred_manager)\n",
      "   226                                         \n",
      "   227    321.6 MiB     32.1 MiB           2           table = make_table(data, schema[table_name])\n",
      "   228                                         \n",
      "   229    325.0 MiB     10.3 MiB           2           write_table(table, output_file_name, output_format)"
     ]
    }
   ],
   "source": [
    "%mprun -f schemas_fulltableextract.demo_run schemas_fulltableextract.demo_run(schema_path, output_path / \"fulltableextract\", output_format, fhir_url)"
   ]
  },
  {
   "cell_type": "code",
   "execution_count": 9,
   "metadata": {},
   "outputs": [
    {
     "name": "stdout",
     "output_type": "stream",
     "text": [
      "\n"
     ]
    },
    {
     "name": "stdout",
     "output_type": "stream",
     "text": [
      "Filename: schemas-0-current.py\n",
      "\n",
      "Line #    Mem usage    Increment  Occurrences   Line Contents\n",
      "=============================================================\n",
      "   109    198.0 MiB    131.4 MiB           2   def make_table(\n",
      "   110                                             schema: dict,\n",
      "   111                                             output_path: pathlib.Path,\n",
      "   112                                             output_format: Literal[\"parquet\"],\n",
      "   113                                             fhir_url: str,\n",
      "   114                                             cred_manager: AzureFhirServerCredentialManager,\n",
      "   115                                         ):\n",
      "   116                                             \"\"\"\n",
      "   117                                             Given the schema for a single table, make the table.\n",
      "   118                                         \n",
      "   119                                             :param schema: A schema specifying the desired values by FHIR resource type.\n",
      "   120                                             :param output_path: A path specifying where the table should be written.\n",
      "   121                                             :param output_format: A string indicating the file format to be used.\n",
      "   122                                             :param fhir_url: URL to a FHIR server.\n",
      "   123                                             :param cred_manager: Service used to get an access token used to make a\n",
      "   124                                             request.\n",
      "   125                                             \"\"\"\n",
      "   126    198.0 MiB      0.0 MiB           2       output_path.mkdir(parents=True, exist_ok=True)\n",
      "   127    206.3 MiB     -0.1 MiB           6       for resource_type in schema:\n",
      "   128                                         \n",
      "   129    206.3 MiB     -6.1 MiB           4           output_file_name = output_path / f\"{resource_type}.{output_format}\"\n",
      "   130                                         \n",
      "   131                                                 # TODO: make _count (and other query parameters) configurable\n",
      "   132    206.3 MiB     -4.1 MiB           4           query = f\"/{resource_type}?_count=1000\"\n",
      "   133    206.3 MiB     -4.1 MiB           4           url = fhir_url + query\n",
      "   134                                         \n",
      "   135    206.3 MiB     -4.1 MiB           4           demo_counter = 0  # DEMO\n",
      "   136    206.3 MiB     -4.1 MiB           4           writer = None\n",
      "   137    206.3 MiB     -4.1 MiB           4           next_page = True\n",
      "   138    206.3 MiB    -68.8 MiB          44           while next_page and demo_counter < 10:  # DEMO\n",
      "   139    206.3 MiB    -70.8 MiB          40               demo_counter += 1  # DEMO\n",
      "   140    206.3 MiB    -61.7 MiB          40               response = fhir_server_get(url, cred_manager)\n",
      "   141    206.3 MiB    -69.3 MiB          40               if response.status_code != 200:\n",
      "   142                                                         break\n",
      "   143                                         \n",
      "   144                                                     # Load queried data.\n",
      "   145    206.8 MiB     13.4 MiB          40               query_result = json.loads(response.content)\n",
      "   146    206.7 MiB   -126.1 MiB          40               data = []\n",
      "   147                                         \n",
      "   148                                                     # Extract values specified by schema from each resource.\n",
      "   149                                                     # values_from_resource is a dictionary of the form:\n",
      "   150                                                     # {field1:value1, field2:value2, ...}.\n",
      "   151                                         \n",
      "   152    206.7 MiB -79768.0 MiB       40040               for resource in query_result[\"entry\"]:\n",
      "   153    206.7 MiB -160039.7 MiB       80000                   values_from_resource = apply_schema_to_resource(\n",
      "   154    206.7 MiB -79934.9 MiB       40000                       resource[\"resource\"], schema\n",
      "   155                                                         )\n",
      "   156    206.7 MiB -79941.8 MiB       40000                   if values_from_resource != {}:\n",
      "   157    206.7 MiB -79942.3 MiB       40000                       data.append(values_from_resource)\n",
      "   158                                         \n",
      "   159                                                     # Write data to file.\n",
      "   160    206.3 MiB    -35.1 MiB          40               writer = write_schema_table(data, output_file_name, output_format, writer)\n",
      "   161                                         \n",
      "   162                                                     # Check for an additional page of query results.\n",
      "   163    206.3 MiB    -64.7 MiB          40               for link in query_result.get(\"link\"):\n",
      "   164    206.3 MiB    -64.7 MiB          40                   if link.get(\"relation\") == \"next\":\n",
      "   165    206.3 MiB    -64.7 MiB          40                       url = link.get(\"url\")\n",
      "   166    206.3 MiB    -64.7 MiB          40                       break\n",
      "   167                                                         else:\n",
      "   168                                                             next_page = False\n",
      "   169                                         \n",
      "   170    206.3 MiB     -0.1 MiB           4           if writer is not None:\n",
      "   171    206.3 MiB     -0.2 MiB           4               writer.close()"
     ]
    }
   ],
   "source": [
    "%mprun -f schemas_current.make_table schemas_current.make_schema_tables(schema_path, output_path, output_format, fhir_url, cred_manager)"
   ]
  }
 ],
 "metadata": {
  "kernelspec": {
   "display_name": "Python 3.9.12 64-bit ('demo-performance')",
   "language": "python",
   "name": "python3"
  },
  "language_info": {
   "codemirror_mode": {
    "name": "ipython",
    "version": 3
   },
   "file_extension": ".py",
   "mimetype": "text/x-python",
   "name": "python",
   "nbconvert_exporter": "python",
   "pygments_lexer": "ipython3",
   "version": "3.9.12"
  },
  "orig_nbformat": 4,
  "vscode": {
   "interpreter": {
    "hash": "2986dc5f0f3ab52672e49ebdb2e4cc03a5d9eb07ece20ef57ee1eeef34a8337f"
   }
  }
 },
 "nbformat": 4,
 "nbformat_minor": 2
}
